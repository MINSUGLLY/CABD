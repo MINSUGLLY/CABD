{
 "cells": [
  {
   "cell_type": "code",
   "execution_count": null,
   "metadata": {},
   "outputs": [],
   "source": [
    "grid_m = 10\n",
    "grid_n = 10\n",
    "\n",
    "link_idx = 0\n",
    "joint_idx = 0\n",
    "\n",
    "with open(\"../config/multibody/grid.json\", \"w\") as f:\n",
    "    f.write(\"{\\n\\t\\\"links\\\": [\\n\")\n",
    "    # circle\n",
    "    for i in range(grid_m):\n",
    "        for j in range(grid_n):\n",
    "            id = link_idx\n",
    "            x = 3.0*i - 1.5*grid_m\n",
    "            y = 3.0*j - 1.5*grid_n\n",
    "            z = 20.0\n",
    "            static = False\n",
    "            if (i == 0 or i == grid_m-1) and (j == 0 or j == grid_n-1):\n",
    "                static = True\n",
    "            \n",
    "            if static:\n",
    "                f.write(\"\\t\\t{{\\\"id\\\": {}, \\\"configPath\\\": \\\"../config/object/link_circle.json\\\", \\\"xyz\\\": [{}, {}, {}], \\\"rpy\\\": [0.0, 0.0, 0.0], \\\"static\\\": true}},\\n\".format(id, x, y, z))\n",
    "            else:\n",
    "                f.write(\"\\t\\t{{\\\"id\\\": {}, \\\"configPath\\\": \\\"../config/object/link_circle.json\\\", \\\"xyz\\\": [{}, {}, {}], \\\"rpy\\\": [0.0, 0.0, 0.0], \\\"static\\\": false}},\\n\".format(id, x, y, z))\n",
    "\n",
    "            link_idx += 1\n",
    "\n",
    "    # x \n",
    "    for i in range(grid_m-1):\n",
    "        for j in range(grid_n):\n",
    "            id = link_idx\n",
    "            x = 3.0*i - 1.5*grid_m + 1.5\n",
    "            y = 3.0*j - 1.5*grid_n\n",
    "            z = 20.0\n",
    "\n",
    "            \n",
    "\n",
    "            link_idx += 1\n",
    "\n",
    "    # link\n",
    "\n",
    "    f.write(\"\\t],\\n\\n\")\n",
    "\n",
    "    f.write(\"\\t\\\"joints\\\": [\\n\")\n",
    "    f.write(\"\\t]\\n}\")"
   ]
  },
  {
   "cell_type": "code",
   "execution_count": null,
   "metadata": {},
   "outputs": [],
   "source": []
  }
 ],
 "metadata": {
  "kernelspec": {
   "display_name": "base",
   "language": "python",
   "name": "python3"
  },
  "language_info": {
   "codemirror_mode": {
    "name": "ipython",
    "version": 3
   },
   "file_extension": ".py",
   "mimetype": "text/x-python",
   "name": "python",
   "nbconvert_exporter": "python",
   "pygments_lexer": "ipython3",
   "version": "3.12.7"
  }
 },
 "nbformat": 4,
 "nbformat_minor": 2
}
